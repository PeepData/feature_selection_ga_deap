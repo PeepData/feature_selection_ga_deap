{
 "cells": [
  {
   "cell_type": "markdown",
   "metadata": {},
   "source": [
    "### Importamos librerias "
   ]
  },
  {
   "cell_type": "code",
   "execution_count": 1,
   "metadata": {},
   "outputs": [],
   "source": [
    "import numpy as np\n",
    "import random\n",
    "\n",
    "\n",
    "import matplotlib.pyplot as plt\n",
    "\n",
    "from deap import algorithms\n",
    "from deap import base\n",
    "from deap import creator\n",
    "from deap import tools\n",
    "\n",
    "from sklearn import linear_model\n",
    "from sklearn.datasets import make_classification\n",
    "from sklearn.metrics import accuracy_score, f1_score\n",
    "from sklearn.model_selection import StratifiedKFold\n",
    "from sklearn.preprocessing import StandardScaler"
   ]
  },
  {
   "cell_type": "markdown",
   "metadata": {},
   "source": [
    "### Feature Selection con GA y DEAP\n",
    "\n",
    "**Contenido:**\n",
    "\n",
    "1. Generación del dataset y creación de la función de evaluación.\n",
    "2. Instanciación del toolbox de DEAP y configuración del problema y los operadores.\n",
    "3. Generación de un Algoritmo Genético Simple codeado por nosotros.\n",
    "\n",
    "![](../images/deap_logo.png)"
   ]
  },
  {
   "cell_type": "markdown",
   "metadata": {},
   "source": [
    "###  1. Generación del dataset y creación de la función de evaluación."
   ]
  },
  {
   "cell_type": "markdown",
   "metadata": {},
   "source": [
    "#### Generamos el dateset y definimos el modelo a utilizar "
   ]
  },
  {
   "cell_type": "code",
   "execution_count": 2,
   "metadata": {},
   "outputs": [],
   "source": [
    "# Definimos la cantidad de features a utilizar\n",
    "n_features = 15\n",
    "\n",
    "# Seteamos verbose en false\n",
    "verbose = 0"
   ]
  },
  {
   "cell_type": "code",
   "execution_count": 3,
   "metadata": {},
   "outputs": [],
   "source": [
    "# Inicialmente lo que haremos es generar el dataset\n",
    "X, y = make_classification(n_samples=1000, n_features=n_features, n_classes=2, n_informative=4, \n",
    "                           n_redundant=1, n_repeated=2, random_state=1)"
   ]
  },
  {
   "cell_type": "code",
   "execution_count": 4,
   "metadata": {},
   "outputs": [],
   "source": [
    "# Luego defineremos el modelo a utilizar\n",
    "model = linear_model.LogisticRegression(solver='lbfgs', multi_class='auto')"
   ]
  },
  {
   "cell_type": "markdown",
   "metadata": {},
   "source": [
    "#### Creamos las funciones auxiliares para realizar la evaluacion "
   ]
  },
  {
   "cell_type": "code",
   "execution_count": 5,
   "metadata": {},
   "outputs": [],
   "source": [
    "# Por ultimo generaremos las funciones de evaluacion\n",
    "def calculate_fitness(model, x, y):\n",
    "    cv_set = np.repeat(-1.0, x.shape[0])\n",
    "    skf = StratifiedKFold(n_splits=5)\n",
    "    for train_index, test_index in skf.split(x, y):\n",
    "        x_train, x_test = x[train_index], x[test_index]\n",
    "        y_train, y_test = y[train_index], y[test_index]\n",
    "        if x_train.shape[0] != y_train.shape[0]:\n",
    "            raise Exception()\n",
    "        model.fit(x_train, y_train)\n",
    "        predicted_y = model.predict(x_test)\n",
    "        cv_set[test_index] = predicted_y\n",
    "    return f1_score(y,cv_set)"
   ]
  },
  {
   "cell_type": "code",
   "execution_count": 6,
   "metadata": {},
   "outputs": [],
   "source": [
    "def evaluate(individual):\n",
    "    np_ind = np.asarray(individual)\n",
    "    if np.sum(np_ind) == 0:\n",
    "        fitness = 0.0\n",
    "    else:\n",
    "        feature_idx = np.where(np_ind == 1)[0]\n",
    "        fitness = calculate_fitness(\n",
    "            model, X[:, feature_idx], y\n",
    "        )\n",
    "        if verbose:\n",
    "            print(\"Individuo: {}  Fitness Score: {} \".format(individual, fitness))\n",
    "\n",
    "    return (fitness,)"
   ]
  },
  {
   "cell_type": "markdown",
   "metadata": {},
   "source": [
    "### 2.  Instanciación del toolbox de DEAP y configuración del problema y los operadores."
   ]
  },
  {
   "cell_type": "markdown",
   "metadata": {},
   "source": [
    "#### Definimos el tipo de problema e instanciamos el Toolbox "
   ]
  },
  {
   "cell_type": "code",
   "execution_count": 7,
   "metadata": {},
   "outputs": [],
   "source": [
    "# En primer lugar definimos si es un problema de maximización o minimización\n",
    "# Esto sea seteando los pesos en \"1.0\"\n",
    "creator.create(\"FeatureSelect\", base.Fitness, weights=(1.0,))\n",
    "creator.create(\"Individual\", list, fitness=creator.FeatureSelect)\n",
    "\n",
    "toolbox = base.Toolbox()"
   ]
  },
  {
   "cell_type": "markdown",
   "metadata": {},
   "source": [
    "#### Configuramos a nuestro individuo y a nuestra poblacion "
   ]
  },
  {
   "cell_type": "code",
   "execution_count": 8,
   "metadata": {},
   "outputs": [],
   "source": [
    "# Definimos como estara conformado nuestro inviduo\n",
    "# En nuestro caso sera un vector de 0 y 1\n",
    "toolbox.register(\"attr_bool\", random.randint, 0, 1)\n",
    "\n",
    "# Luego definimos que nuestro inviduo ademas tendra la longitud = n_features\n",
    "toolbox.register(\"individual\", tools.initRepeat, creator.Individual, toolbox.attr_bool, n_features)\n",
    "\n",
    "# Configuramos a nuestra poblacion, indicando como son los individuos que la conformaran\n",
    "toolbox.register(\"population\", tools.initRepeat, list, toolbox.individual)"
   ]
  },
  {
   "cell_type": "markdown",
   "metadata": {},
   "source": [
    "**Recursos:**  \n",
    "Para más información revisar la documentación de **[DEAP](https://deap.readthedocs.io/en/master/)**."
   ]
  },
  {
   "cell_type": "markdown",
   "metadata": {},
   "source": [
    "#### Definimos los operadores \n",
    "\n",
    "![](../images/ga_operators.png)"
   ]
  },
  {
   "cell_type": "code",
   "execution_count": 9,
   "metadata": {},
   "outputs": [],
   "source": [
    "toolbox.register(\"mate\", tools.cxTwoPoint) # Crossover\n",
    "toolbox.register(\"mutate\", tools.mutFlipBit, indpb=0.1) # Mutacion\n",
    "toolbox.register(\"select\", tools.selTournament, tournsize=3) # Selecion\n",
    "toolbox.register(\"evaluate\", evaluate) # Evaluacion"
   ]
  },
  {
   "cell_type": "markdown",
   "metadata": {},
   "source": [
    "**Recursos:**  \n",
    "Por cada operador existen diferentes variantes. Para ver cuáles están disponibles revisar la documentación de **[DEAP](https://deap.readthedocs.io/en/master/api/tools.html#operators)**."
   ]
  },
  {
   "cell_type": "markdown",
   "metadata": {},
   "source": [
    "### 3. Generación de un Algoritmo Genético Simple codeado por nosotros. "
   ]
  },
  {
   "cell_type": "markdown",
   "metadata": {},
   "source": [
    "#### Definimos algunas constantes y desarrollamos un funcion auxiliear para visualizar las estadisticas "
   ]
  },
  {
   "cell_type": "code",
   "execution_count": 10,
   "metadata": {},
   "outputs": [],
   "source": [
    "N_POP = 100 # Tamaño de la población\n",
    "CXPB = 0.5 # Probabilidad de crossover\n",
    "MUTPB = 0.2 # Probabilidad de mutación\n",
    "NGEN = 10 # Cantidad de generaciones"
   ]
  },
  {
   "cell_type": "code",
   "execution_count": 11,
   "metadata": {},
   "outputs": [
    {
     "name": "stdout",
     "output_type": "stream",
     "text": [
      "Tamaño población: 100\n",
      "Probabilidad de crossover: 0.5\n",
      "Probabilida de mutación: 0.2\n",
      "Generaciones totales: 10\n"
     ]
    }
   ],
   "source": [
    "print(\n",
    "    \"Tamaño población: {}\\nProbabilidad de crossover: {}\\nProbabilida de mutación: {}\\nGeneraciones totales: {}\".format(\n",
    "        N_POP, CXPB, MUTPB, NGEN\n",
    "    )\n",
    ")"
   ]
  },
  {
   "cell_type": "code",
   "execution_count": 12,
   "metadata": {},
   "outputs": [],
   "source": [
    "# Función para generar reporte custom\n",
    "def build_stats(gen, pop, fits):\n",
    "    record = {}\n",
    "    length = len(pop)\n",
    "    mean = sum(fits) / length\n",
    "    sum2 = sum(x * x for x in fits)\n",
    "    std = abs(sum2 / length - mean ** 2) ** 0.5\n",
    "    \n",
    "    record['gen'] = gen + 1\n",
    "    record['min'] = min(fits)\n",
    "    record['max'] = max(fits)\n",
    "    record['avg'] = mean\n",
    "    record['std'] = std\n",
    "    \n",
    "    print(\"  Min {}  Max {}  Avg {}  Std {}\".format(min(fits), max(fits), mean, std))\n",
    "\n",
    "    return record"
   ]
  },
  {
   "cell_type": "markdown",
   "metadata": {},
   "source": [
    "#### Algoritmo Genetico"
   ]
  },
  {
   "cell_type": "code",
   "execution_count": 13,
   "metadata": {},
   "outputs": [],
   "source": [
    "# Inicializamos a la poblacion\n",
    "pop = toolbox.population(N_POP)"
   ]
  },
  {
   "cell_type": "code",
   "execution_count": 14,
   "metadata": {},
   "outputs": [
    {
     "name": "stdout",
     "output_type": "stream",
     "text": [
      "Evaluamos a los indivudos inicializados.......\n"
     ]
    }
   ],
   "source": [
    "print(\"Evaluamos a los indivudos inicializados.......\")\n",
    "fitnesses = list(map(toolbox.evaluate, pop))"
   ]
  },
  {
   "cell_type": "code",
   "execution_count": 15,
   "metadata": {},
   "outputs": [],
   "source": [
    "# Asignamos a los inviduos el score del paso anterior\n",
    "for ind, fit in zip(pop, fitnesses):\n",
    "    ind.fitness.values = fit"
   ]
  },
  {
   "cell_type": "code",
   "execution_count": 16,
   "metadata": {},
   "outputs": [
    {
     "name": "stdout",
     "output_type": "stream",
     "text": [
      "-- GENERACIÓN 0 --\n",
      "  Min 0.7852882703777336  Max 0.7852882703777336  Avg 0.007852882703777337  Std 0.07813519635330315\n",
      "-- GENERACIÓN 1 --\n",
      "Individuos evaluados: 75\n",
      "  Min 0.612668743509865  Max 0.8078431372549019  Avg 0.7844941651526885  Std 0.02662700586534695\n",
      "-- GENERACIÓN 2 --\n",
      "Individuos evaluados: 58\n",
      "  Min 0.6517766497461929  Max 0.8078431372549019  Avg 0.7906246356741594  Std 0.02375153836420454\n",
      "-- GENERACIÓN 3 --\n",
      "Individuos evaluados: 62\n",
      "  Min 0.6673267326732674  Max 0.8082191780821917  Avg 0.7964695525984702  Std 0.015962258152226867\n",
      "-- GENERACIÓN 4 --\n",
      "Individuos evaluados: 54\n",
      "  Min 0.5517241379310345  Max 0.8128654970760234  Avg 0.7976503759782141  Std 0.03291288227471007\n",
      "-- GENERACIÓN 5 --\n",
      "Individuos evaluados: 65\n",
      "  Min 0.5524625267665952  Max 0.8128654970760234  Avg 0.7967259630041894  Std 0.044449280232883574\n",
      "-- GENERACIÓN 6 --\n",
      "Individuos evaluados: 61\n",
      "  Min 0.5528281750266809  Max 0.8128654970760234  Avg 0.7990507592436699  Std 0.043751771326434555\n",
      "-- GENERACIÓN 7 --\n",
      "Individuos evaluados: 60\n",
      "  Min 0.5628356605800214  Max 0.8128654970760234  Avg 0.8050616266495312  Std 0.026081986176181078\n",
      "-- GENERACIÓN 8 --\n",
      "Individuos evaluados: 53\n",
      "  Min 0.564983888292159  Max 0.8128654970760234  Avg 0.8018631739114003  Std 0.03697799399987706\n",
      "-- GENERACIÓN 9 --\n",
      "Individuos evaluados: 65\n",
      "  Min 0.5604278074866309  Max 0.8128654970760234  Avg 0.8066613718419221  Std 0.03022964514407496\n",
      "-- GENERACIÓN 10 --\n",
      "Individuos evaluados: 66\n",
      "  Min 0.6462167689161554  Max 0.8128654970760234  Avg 0.808544917153797  Std 0.017863185658588278\n"
     ]
    }
   ],
   "source": [
    "fitness_in_generation = {} # Variable auxiliar para generar el reporte\n",
    "stats_records = [] # Variable auxiliar para generar el reporte\n",
    "\n",
    "print(\"-- GENERACIÓN 0 --\")\n",
    "stats_records.append(build_stats(-1, pop, fitnesses[0]))\n",
    "\n",
    "for g in range(NGEN):\n",
    "    print(\"-- GENERACIÓN {} --\".format(g + 1))\n",
    "    # Seleccionamos a la siguiente generacion de individuos\n",
    "    offspring = toolbox.select(pop, len(pop))\n",
    "    \n",
    "    # Clonamos a los invidiuos seleccionados\n",
    "    offspring = list(map(toolbox.clone, offspring))\n",
    "\n",
    "    # Aplicamos crossover y mutacion a los inviduos seleccionados\n",
    "    for child1, child2 in zip(offspring[::2], offspring[1::2]):\n",
    "        if random.random() < CXPB:\n",
    "            toolbox.mate(child1, child2)\n",
    "            del child1.fitness.values\n",
    "            del child2.fitness.values\n",
    "\n",
    "    for mutant in offspring:\n",
    "        if random.random() < MUTPB:\n",
    "            toolbox.mutate(mutant)\n",
    "            del mutant.fitness.values\n",
    "            \n",
    "    \n",
    "    # Evaluamos a los individuos con una fitness invalida\n",
    "    weak_ind = [ind for ind in offspring if not ind.fitness.valid]\n",
    "    fitnesses = list(map(toolbox.evaluate, weak_ind))\n",
    "    for ind, fit in zip(weak_ind, fitnesses):\n",
    "        ind.fitness.values = fit\n",
    "    print(\"Individuos evaluados: {}\".format(len(weak_ind)))\n",
    "\n",
    "    # Reemplazamos a la poblacion completamente por los nuevos descendientes\n",
    "    pop[:] = offspring\n",
    "    \n",
    "    # Mostramos las salidas de la estadisticas de la generacion actual\n",
    "    fits = [ind.fitness.values[0] for ind in pop]\n",
    "    \n",
    "    stats_records.append(build_stats(g, pop, fits))"
   ]
  },
  {
   "cell_type": "markdown",
   "metadata": {},
   "source": [
    "**NOTA:**\n",
    "\n",
    "Tener en cuenta que en el flujo básico que desarrollamos con DEAP opera **inplace**. Es por eso que vamos a ver tanto las operaciones de crossover como en la de mutación que eliminamos de la memoria las evaluaciones de los inviduos que pasan por estas. Ya que al haber sido procesado el inviduo existe la posibilidad de que este sea diferente y en consecuencia su score también lo será.  \n",
    "¿Cómo identificamos a estos? Cada inviduo en DEAP tiene una propiedad asociada: **ind.fitness.valid**. Cuando esta devuelve **false** nos indica que el inviduo fue procesado, ya que no tiene ningun score asociado."
   ]
  },
  {
   "cell_type": "markdown",
   "metadata": {},
   "source": [
    "#### Seleccion del mejor individuo "
   ]
  },
  {
   "cell_type": "code",
   "execution_count": 17,
   "metadata": {},
   "outputs": [
    {
     "name": "stdout",
     "output_type": "stream",
     "text": [
      "El mejor individuo es: \n",
      "[1, 0, 0, 0, 0, 0, 0, 0, 1, 1, 0, 0, 0, 1, 0], con un F1 Score de (0.8128654970760234,)\n"
     ]
    }
   ],
   "source": [
    "# Seleccionamos a la mejor solucion\n",
    "best_solution = tools.selBest(pop, 1)[0]\n",
    "print(\n",
    "    \"El mejor individuo es: \\n{}, con un F1 Score de {}\".format(best_solution, best_solution.fitness.values)\n",
    ")"
   ]
  },
  {
   "cell_type": "markdown",
   "metadata": {},
   "source": [
    "#### Graficamos el score promedio de cada generacion "
   ]
  },
  {
   "cell_type": "code",
   "execution_count": 18,
   "metadata": {},
   "outputs": [
    {
     "data": {
      "image/png": "[encoded data removed]",
      "text/plain": [
       "<Figure size 720x576 with 1 Axes>"
      ]
     },
     "metadata": {
      "needs_background": "light"
     },
     "output_type": "display_data"
    }
   ],
   "source": [
    "# Ploteamos el AVG por generacion\n",
    "plt.figure(figsize=(10,8))\n",
    "front = np.array([(c['gen'], c['avg']) for c in stats_records])\n",
    "plt.plot(front[:,0][1:], front[:,1][1:], \"-bo\", c=\"b\")\n",
    "plt.axis(\"tight\")\n",
    "plt.show()"
   ]
  }
 ],
 "metadata": {
  "kernelspec": {
   "display_name": "Python 3.8.5 64-bit ('base')",
   "language": "python",
   "name": "python38564bitbase4a549c935c37479eb14db6ad0f011397"
  },
  "language_info": {
   "codemirror_mode": {
    "name": "ipython",
    "version": 3
   },
   "file_extension": ".py",
   "mimetype": "text/x-python",
   "name": "python",
   "nbconvert_exporter": "python",
   "pygments_lexer": "ipython3",
   "version": "3.8.5"
  }
 },
 "nbformat": 4,
 "nbformat_minor": 4
}
