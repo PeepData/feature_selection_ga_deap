{
 "cells": [
  {
   "cell_type": "markdown",
   "metadata": {},
   "source": [
    "### Importamos librerias "
   ]
  },
  {
   "cell_type": "code",
   "execution_count": 1,
   "metadata": {},
   "outputs": [],
   "source": [
    "import numpy as np\n",
    "import pandas as pd\n",
    "import random\n",
    "\n",
    "\n",
    "import matplotlib.pyplot as plt\n",
    "import seaborn as sns\n",
    "\n",
    "from deap import algorithms\n",
    "from deap import base\n",
    "from deap import creator\n",
    "from deap import tools\n",
    "\n",
    "from sklearn import linear_model\n",
    "from sklearn.datasets import make_classification\n",
    "from sklearn.metrics import accuracy_score, f1_score\n",
    "from sklearn.model_selection import StratifiedKFold\n",
    "from sklearn.preprocessing import StandardScaler"
   ]
  },
  {
   "cell_type": "markdown",
   "metadata": {},
   "source": [
    "### Feature Selection con GA y DEAP\n",
    "\n",
    "**Contenido:**\n",
    "\n",
    "1. Generación del dataset y creación de la función de evaluación.\n",
    "2. Instanciación del toolbox de DEAP y configuración del problema y los operadores.\n",
    "3. Generación de un Algoritmo Genético Simple codeado por nosotros.\n",
    "\n",
    "![](../images/deap_logo.png)"
   ]
  },
  {
   "cell_type": "markdown",
   "metadata": {},
   "source": [
    "###  1. Generación del dataset y creación de la función de evaluación."
   ]
  },
  {
   "cell_type": "markdown",
   "metadata": {},
   "source": [
    "#### Generamos el dateset y definimos el modelo a utilizar "
   ]
  },
  {
   "cell_type": "code",
   "execution_count": 3,
   "metadata": {},
   "outputs": [],
   "source": [
    "# Definimos la cantidad de features a utilizar\n",
    "n_features = 15\n",
    "\n",
    "# Seteamos verbose en false\n",
    "verbose = 0"
   ]
  },
  {
   "cell_type": "code",
   "execution_count": 4,
   "metadata": {},
   "outputs": [],
   "source": [
    "# Inicialmente lo que haremos es generar el dataset\n",
    "X, y = make_classification(n_samples=1000, n_features=n_features, n_classes=2, n_informative=4, \n",
    "                           n_redundant=1, n_repeated=2, random_state=1)"
   ]
  },
  {
   "cell_type": "code",
   "execution_count": 5,
   "metadata": {},
   "outputs": [],
   "source": [
    "# Luego defineremos el modelo a utilizar\n",
    "model = linear_model.LogisticRegression(solver='lbfgs', multi_class='auto')"
   ]
  },
  {
   "cell_type": "markdown",
   "metadata": {},
   "source": [
    "#### Creamos las funciones auxiliares para realizar la evaluacion "
   ]
  },
  {
   "cell_type": "code",
   "execution_count": 6,
   "metadata": {},
   "outputs": [],
   "source": [
    "# Por ultimo generaremos las funciones de evaluacion\n",
    "def calculate_fitness(model, x, y):\n",
    "    cv_set = np.repeat(-1.0, x.shape[0])\n",
    "    skf = StratifiedKFold(n_splits=5)\n",
    "    for train_index, test_index in skf.split(x, y):\n",
    "        x_train, x_test = x[train_index], x[test_index]\n",
    "        y_train, y_test = y[train_index], y[test_index]\n",
    "        if x_train.shape[0] != y_train.shape[0]:\n",
    "            raise Exception()\n",
    "        model.fit(x_train, y_train)\n",
    "        predicted_y = model.predict(x_test)\n",
    "        cv_set[test_index] = predicted_y\n",
    "    return f1_score(y,cv_set)"
   ]
  },
  {
   "cell_type": "code",
   "execution_count": 7,
   "metadata": {},
   "outputs": [],
   "source": [
    "def evaluate(individual):\n",
    "    np_ind = np.asarray(individual)\n",
    "    if np.sum(np_ind) == 0:\n",
    "        fitness = 0.0\n",
    "    else:\n",
    "        feature_idx = np.where(np_ind == 1)[0]\n",
    "        fitness = calculate_fitness(\n",
    "            model, X[:, feature_idx], y\n",
    "        )\n",
    "        if verbose:\n",
    "            print(\"Individuo: {}  Fitness Score: {} \".format(individual, fitness))\n",
    "\n",
    "    return (fitness,)"
   ]
  },
  {
   "cell_type": "markdown",
   "metadata": {},
   "source": [
    "### 2.  Instanciación del toolbox de DEAP y configuración del problema y los operadores."
   ]
  },
  {
   "cell_type": "markdown",
   "metadata": {},
   "source": [
    "#### Definimos el tipo de problema e instanciamos el Toolbox "
   ]
  },
  {
   "cell_type": "code",
   "execution_count": 8,
   "metadata": {},
   "outputs": [],
   "source": [
    "# En primer lugar definimos si es un problema de maximización o minimización\n",
    "# Esto sea seteando los pesos en \"1.0\"\n",
    "creator.create(\"FeatureSelect\", base.Fitness, weights=(1.0,))\n",
    "creator.create(\"Individual\", list, fitness=creator.FeatureSelect)\n",
    "\n",
    "toolbox = base.Toolbox()"
   ]
  },
  {
   "cell_type": "markdown",
   "metadata": {},
   "source": [
    "#### Configuramos a nuestro individuo y a nuestra poblacion "
   ]
  },
  {
   "cell_type": "code",
   "execution_count": 9,
   "metadata": {},
   "outputs": [],
   "source": [
    "# Definimos como estara conformado nuestro inviduo\n",
    "# En nuestro caso sera un vector de 0 y 1\n",
    "toolbox.register(\"attr_bool\", random.randint, 0, 1)\n",
    "\n",
    "# Luego definimos que nuestro inviduo ademas tendra la longitud = n_features\n",
    "toolbox.register(\"individual\", tools.initRepeat, creator.Individual, toolbox.attr_bool, n_features)\n",
    "\n",
    "# Configuramos a nuestra poblacion, indicando como son los individuos que la conformaran\n",
    "toolbox.register(\"population\", tools.initRepeat, list, toolbox.individual)"
   ]
  },
  {
   "cell_type": "markdown",
   "metadata": {},
   "source": [
    "**Recursos:**  \n",
    "Para más información revisar la documentación de **[DEAP](https://deap.readthedocs.io/en/master/)**."
   ]
  },
  {
   "cell_type": "markdown",
   "metadata": {},
   "source": [
    "#### Definimos los operadores \n",
    "\n",
    "![](../images/ga_operators.png)"
   ]
  },
  {
   "cell_type": "code",
   "execution_count": 10,
   "metadata": {},
   "outputs": [],
   "source": [
    "toolbox.register(\"mate\", tools.cxTwoPoint) # Crossover\n",
    "toolbox.register(\"mutate\", tools.mutFlipBit, indpb=0.1) # Mutacion\n",
    "toolbox.register(\"select\", tools.selTournament, tournsize=3) # Selecion\n",
    "toolbox.register(\"evaluate\", evaluate) # Evaluacion"
   ]
  },
  {
   "cell_type": "markdown",
   "metadata": {},
   "source": [
    "**Recursos:**  \n",
    "Por cada operador existen diferentes variantes. Para ver cuáles están disponibles revisar la documentación de **[DEAP](https://deap.readthedocs.io/en/master/api/tools.html#operators)**."
   ]
  },
  {
   "cell_type": "markdown",
   "metadata": {},
   "source": [
    "### 3. Generación de un Algoritmo Genético Simple codeado por nosotros. "
   ]
  },
  {
   "cell_type": "markdown",
   "metadata": {},
   "source": [
    "#### Definimos algunas constantes"
   ]
  },
  {
   "cell_type": "code",
   "execution_count": 11,
   "metadata": {},
   "outputs": [],
   "source": [
    "N_POP = 100 # Tamaño de la población\n",
    "CXPB = 0.5 # Probabilidad de crossover\n",
    "MUTPB = 0.2 # Probabilidad de mutación\n",
    "NGEN = 10 # Cantidad de generaciones"
   ]
  },
  {
   "cell_type": "code",
   "execution_count": 12,
   "metadata": {},
   "outputs": [
    {
     "name": "stdout",
     "output_type": "stream",
     "text": [
      "Tamaño población: 100\n",
      "Probabilidad de crossover: 0.5\n",
      "Probabilida de mutación: 0.2\n",
      "Generaciones totales: 10\n"
     ]
    }
   ],
   "source": [
    "print(\n",
    "    \"Tamaño población: {}\\nProbabilidad de crossover: {}\\nProbabilida de mutación: {}\\nGeneraciones totales: {}\".format(\n",
    "        N_POP, CXPB, MUTPB, NGEN\n",
    "    )\n",
    ")"
   ]
  },
  {
   "cell_type": "markdown",
   "metadata": {},
   "source": [
    "#### Algoritmo Genetico"
   ]
  },
  {
   "cell_type": "code",
   "execution_count": 13,
   "metadata": {},
   "outputs": [],
   "source": [
    "# Inicializamos a la poblacion\n",
    "pop = toolbox.population(N_POP)"
   ]
  },
  {
   "cell_type": "code",
   "execution_count": 14,
   "metadata": {},
   "outputs": [
    {
     "name": "stdout",
     "output_type": "stream",
     "text": [
      "gen\tnevals\tavg        \tstd         \tmin         \tmax         \n",
      "0  \t100   \t[0.7497947]\t[0.07047821]\t[0.46169772]\t[0.81170732]\n",
      "1  \t73    \t[0.79034247]\t[0.01430428]\t[0.68743287]\t[0.80664062]\n",
      "2  \t72    \t[0.79585427]\t[0.00328139]\t[0.78963111]\t[0.80664062]\n",
      "3  \t70    \t[0.79816281]\t[0.00323302]\t[0.79241517]\t[0.80664062]\n",
      "4  \t69    \t[0.79974024]\t[0.00265998]\t[0.79482072]\t[0.80667321]\n",
      "5  \t79    \t[0.80117752]\t[0.00272524]\t[0.79324056]\t[0.80667321]\n",
      "6  \t66    \t[0.80293975]\t[0.00262773]\t[0.79760718]\t[0.80742913]\n",
      "7  \t73    \t[0.80464759]\t[0.00238743]\t[0.79760718]\t[0.80821918]\n",
      "8  \t67    \t[0.80612833]\t[0.00173095]\t[0.80234834]\t[0.80970874]\n",
      "9  \t77    \t[0.80731366]\t[0.00088576]\t[0.80392157]\t[0.81012658]\n",
      "10 \t70    \t[0.80809054]\t[0.00107269]\t[0.80660836]\t[0.81128405]\n"
     ]
    }
   ],
   "source": [
    "hof   = tools.ParetoFront()\n",
    "stats = tools.Statistics(lambda ind: ind.fitness.values)\n",
    "\n",
    "# Estadisticas\n",
    "stats.register(\"avg\", np.mean, axis=0)\n",
    "stats.register(\"std\", np.std, axis=0)\n",
    "stats.register(\"min\", np.min, axis=0)\n",
    "stats.register(\"max\", np.max, axis=0)\n",
    "\n",
    "\n",
    "# Algoritmo\n",
    "pop, logbook = algorithms.eaMuPlusLambda(pop, \n",
    "                                         toolbox, \n",
    "                                         mu=N_POP, \n",
    "                                         lambda_=N_POP,\n",
    "                                         cxpb=CXPB,   \n",
    "                                         mutpb=MUTPB, \n",
    "                                         ngen=NGEN, \n",
    "                                         stats=stats, \n",
    "                                         halloffame=hof)"
   ]
  },
  {
   "cell_type": "markdown",
   "metadata": {},
   "source": [
    "**NOTA:**  \n",
    "Exista una amplia variedad de algoritmos que nos provee DEAP. Para ver cuáles están disponibles ingresar a la documentación de **[DEAP](https://deap.readthedocs.io/en/master/api/algo.html)**."
   ]
  },
  {
   "cell_type": "markdown",
   "metadata": {},
   "source": [
    "#### Seleccion del mejor individuo "
   ]
  },
  {
   "cell_type": "code",
   "execution_count": 15,
   "metadata": {},
   "outputs": [
    {
     "name": "stdout",
     "output_type": "stream",
     "text": [
      "El mejor individuo es: \n",
      "[1, 0, 0, 0, 1, 0, 0, 0, 0, 1, 1, 0, 1, 0, 1], con un F1 Score de (0.811284046692607,)\n"
     ]
    }
   ],
   "source": [
    "# Seleccionamos a la mejor solucion\n",
    "best_solution = tools.selBest(pop, 1)[0]\n",
    "print(\n",
    "    \"El mejor individuo es: \\n{}, con un F1 Score de {}\".format(best_solution, best_solution.fitness.values)\n",
    ")"
   ]
  },
  {
   "cell_type": "markdown",
   "metadata": {},
   "source": [
    "#### Graficamos el score promedio de cada generacion "
   ]
  },
  {
   "cell_type": "code",
   "execution_count": 16,
   "metadata": {},
   "outputs": [
    {
     "data": {
      "image/png": "[encoded data removed]",
      "text/plain": [
       "<Figure size 720x576 with 1 Axes>"
      ]
     },
     "metadata": {
      "needs_background": "light"
     },
     "output_type": "display_data"
    }
   ],
   "source": [
    "# Ploteamos el AVG por generacion\n",
    "plt.figure(figsize=(10,8))\n",
    "front = np.array([(c['gen'], c['avg'][0]) for c in logbook])\n",
    "plt.plot(front[:,0][1:], front[:,1][1:], \"-bo\", c=\"b\")\n",
    "plt.axis(\"tight\")\n",
    "plt.show()"
   ]
  }
 ],
 "metadata": {
  "kernelspec": {
   "display_name": "Python 3.8.5 64-bit ('base')",
   "language": "python",
   "name": "python38564bitbase4a549c935c37479eb14db6ad0f011397"
  },
  "language_info": {
   "codemirror_mode": {
    "name": "ipython",
    "version": 3
   },
   "file_extension": ".py",
   "mimetype": "text/x-python",
   "name": "python",
   "nbconvert_exporter": "python",
   "pygments_lexer": "ipython3",
   "version": "3.8.5"
  }
 },
 "nbformat": 4,
 "nbformat_minor": 4
}
